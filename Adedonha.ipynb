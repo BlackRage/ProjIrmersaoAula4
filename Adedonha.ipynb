{
  "nbformat": 4,
  "nbformat_minor": 0,
  "metadata": {
    "colab": {
      "provenance": [],
      "toc_visible": true,
      "authorship_tag": "ABX9TyP294gVh/Ernkn7vkCCyL3n",
      "include_colab_link": true
    },
    "kernelspec": {
      "name": "python3",
      "display_name": "Python 3"
    },
    "language_info": {
      "name": "python"
    }
  },
  "cells": [
    {
      "cell_type": "markdown",
      "metadata": {
        "id": "view-in-github",
        "colab_type": "text"
      },
      "source": [
        "<a href=\"https://colab.research.google.com/github/BlackRage/ProjIrmersaoAula4/blob/main/Adedonha.ipynb\" target=\"_parent\"><img src=\"https://colab.research.google.com/assets/colab-badge.svg\" alt=\"Open In Colab\"/></a>"
      ]
    },
    {
      "cell_type": "code",
      "source": [
        "import random\n",
        "\n",
        "def jogo_da_letra():\n",
        "    \"\"\"Sorteia uma letra e solicita palavras que comecem com ela,\n",
        "    verifica as respostas e calcula a pontuação.\n",
        "    \"\"\"\n",
        "    letra_sorteada = random.choice('abcdefghijklmnopqrstuvwxyz')\n",
        "    print(f\"Letra sorteada: {letra_sorteada.upper()}\\n\")\n",
        "\n",
        "    categorias = [\n",
        "        \"Nome de pessoa\",\n",
        "        \"Nome de comida\",\n",
        "        \"Marca de carro\",\n",
        "        \"Cidade\",\n",
        "        \"Filme/Novela\"\n",
        "    ]\n",
        "    respostas = {}\n",
        "    acertos = 0\n",
        "\n",
        "    for categoria in categorias:\n",
        "        resposta = input(f\"Digite um(a) {categoria} que comece com a letra {letra_sorteada.upper()}: \")\n",
        "        respostas[categoria] = resposta\n",
        "\n",
        "        if resposta.lower().startswith(letra_sorteada):\n",
        "            acertos += 1\n",
        "        else:\n",
        "            print(f\"{categoria}: {resposta} - Incorreto! Tente novamente.\")\n",
        "\n",
        "    nota = (acertos / len(categorias)) * 10\n",
        "    print(f\"\\nVocê acertou {acertos} de {len(categorias)} perguntas.\")\n",
        "    print(f\"Sua nota: {nota:.1f}\")\n",
        "\n",
        "jogo_da_letra()"
      ],
      "metadata": {
        "colab": {
          "base_uri": "https://localhost:8080/"
        },
        "id": "o6RZ3W57jLIS",
        "outputId": "d0a4fa8d-d4af-4486-984b-d6e3d1025d29"
      },
      "execution_count": 9,
      "outputs": [
        {
          "output_type": "stream",
          "name": "stdout",
          "text": [
            "Letra sorteada: T\n",
            "\n",
            "Digite um(a) Nome de pessoa que comece com a letra T: Tania\n",
            "Digite um(a) Nome de comida que comece com a letra T: Tiramissu\n",
            "Digite um(a) Marca de carro que comece com a letra T: Tesla\n",
            "Digite um(a) Cidade que comece com a letra T: Trindade\n",
            "Digite um(a) Filme/Novela que comece com a letra T: Titanic\n",
            "\n",
            "Você acertou 5 de 5 perguntas.\n",
            "Sua nota: 10.0\n"
          ]
        }
      ]
    }
  ]
}